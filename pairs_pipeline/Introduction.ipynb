{
 "cells": [
  {
   "cell_type": "markdown",
   "metadata": {},
   "source": [
    "<a href=\"https://www.quantrocket.com\"><img alt=\"QuantRocket logo\" src=\"https://www.quantrocket.com/assets/img/notebook-header-logo.png\"></a><br>\n",
    "<a href=\"https://www.quantrocket.com/disclaimer/\">Disclaimer</a>"
   ]
  },
  {
   "cell_type": "markdown",
   "metadata": {},
   "source": [
    "# Pairs Trading Strategy with Pairs Selection Pipeline\n",
    "\n",
    "This tutorial demonstrates a research pipeline for identifying and backtesting ETF or stock pairs using Moonshot. From a starting universe of stocks or ETFs, all pair combinations are tested for cointegration using the Johansen test. In-sample backtests are run on all cointegrating pairs. A portfolio of the 5 best performing pairs is then selected and backtested out-of-sample. \n",
    "\n",
    "The pairs trading strategy re-calculates daily hedge ratios using the Johansen test and times entries and exits using Bollinger Bands, as outlined in Ernie Chan's book *Algorithmic Trading: Winning Strategies and Their Rationale*, Wiley, 2013, chapter 4.    \n",
    "\n",
    "The use of a pairs selection pipeline is aimed at mitigating the tendency of cointegrating pairs to eventually cease cointegrating. The tutorial runs on the universe of US ETFs but is designed to be easily adaptable to other universes of stocks or ETFs."
   ]
  },
  {
   "cell_type": "markdown",
   "metadata": {},
   "source": [
    "* Part 1: [Data Collection](Part1-Data-Collection.ipynb)\n",
    "* Part 2: [Moonshot Pairs Trading Strategy](Part2-Moonshot-Pairs-Strategy.ipynb)\n",
    "* Part 3: [Pairs Selection Pipeline](Part3-Pairs-Selection-Pipeline.ipynb)"
   ]
  }
 ],
 "metadata": {
  "kernelspec": {
   "display_name": "Python 3.11",
   "language": "python",
   "name": "python3"
  },
  "language_info": {
   "codemirror_mode": {
    "name": "ipython",
    "version": 3
   },
   "file_extension": ".py",
   "mimetype": "text/x-python",
   "name": "python",
   "nbconvert_exporter": "python",
   "pygments_lexer": "ipython3",
   "version": "3.11.0"
  }
 },
 "nbformat": 4,
 "nbformat_minor": 4
}
